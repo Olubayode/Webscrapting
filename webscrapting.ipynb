{
 "cells": [
  {
   "cell_type": "code",
   "execution_count": 64,
   "metadata": {},
   "outputs": [],
   "source": [
    "import requests\n",
    "from bs4 import BeautifulSoup\n",
    "nigeria_states = requests.get(  'https://en.wikipedia.org/wiki/List_of_capitals_of_states_of_Nigeria', 'lxml')\n",
    "nigeria_states .status_code\n",
    "soup =BeautifulSoup(nigeria_states.text)\n",
    "states= soup.find_all('table', class_=\"wikitable\")[0].find_all('tbody')[0].find_all('td')[0]\n"
   ]
  },
  {
   "cell_type": "code",
   "execution_count": 65,
   "metadata": {},
   "outputs": [],
   "source": [
    "import pandas as pd\n",
    "students = pd.read_csv('Students_contact.csv')\n",
    "students.head()\n",
    "for name in students.itertuples():\n",
    "    #print(name)\n",
    "    student_name = name[1]\n",
    "    student_email = name[2]"
   ]
  },
  {
   "cell_type": "code",
   "execution_count": 66,
   "metadata": {},
   "outputs": [
    {
     "data": {
      "text/plain": [
       "<td><a href=\"/wiki/Abia_State\" title=\"Abia State\">Abia</a>\n",
       "</td>"
      ]
     },
     "execution_count": 66,
     "metadata": {},
     "output_type": "execute_result"
    }
   ],
   "source": [
    "states"
   ]
  },
  {
   "cell_type": "code",
   "execution_count": 67,
   "metadata": {},
   "outputs": [],
   "source": [
    "states_nig = []"
   ]
  },
  {
   "cell_type": "code",
   "execution_count": 68,
   "metadata": {},
   "outputs": [],
   "source": [
    "for x in range (0,72,2):\n",
    "    states_nig.append(soup.find_all('table', class_=\"wikitable\")[0].find_all('tbody')[0].find_all('td')[x].find_all('a')[0].text)\n"
   ]
  },
  {
   "cell_type": "code",
   "execution_count": 69,
   "metadata": {},
   "outputs": [
    {
     "data": {
      "text/plain": [
       "['Abia',\n",
       " 'Adamawa',\n",
       " 'Akwa Ibom',\n",
       " 'Anambra',\n",
       " 'Bauchi',\n",
       " 'Bayelsa',\n",
       " 'Benue',\n",
       " 'Borno',\n",
       " 'Cross River',\n",
       " 'Delta',\n",
       " 'Ebonyi',\n",
       " 'Edo',\n",
       " 'Ekiti',\n",
       " 'Enugu',\n",
       " 'Gombe',\n",
       " 'Imo',\n",
       " 'Jigawa',\n",
       " 'Kaduna',\n",
       " 'Kano',\n",
       " 'Katsina',\n",
       " 'Kebbi',\n",
       " 'Kogi',\n",
       " 'Kwara',\n",
       " 'Lagos',\n",
       " 'Nasarawa',\n",
       " 'Niger',\n",
       " 'Ogun',\n",
       " 'Ondo',\n",
       " 'Osun',\n",
       " 'Oyo',\n",
       " 'Plateau',\n",
       " 'Rivers',\n",
       " 'Sokoto',\n",
       " 'Taraba',\n",
       " 'Yobe',\n",
       " 'Zamfara ']"
      ]
     },
     "execution_count": 69,
     "metadata": {},
     "output_type": "execute_result"
    }
   ],
   "source": [
    "states_nig"
   ]
  },
  {
   "cell_type": "code",
   "execution_count": 70,
   "metadata": {},
   "outputs": [],
   "source": [
    "Capital_nig = []"
   ]
  },
  {
   "cell_type": "code",
   "execution_count": 71,
   "metadata": {},
   "outputs": [],
   "source": [
    "for x in range (1,73,2):\n",
    "    Capital_nig.append(soup.find_all('table', class_=\"wikitable\")[0].find_all('tbody')[0].find_all('td')[x].find_all('a')[0].text)\n"
   ]
  },
  {
   "cell_type": "code",
   "execution_count": 72,
   "metadata": {},
   "outputs": [
    {
     "data": {
      "text/plain": [
       "['Umuahia',\n",
       " 'Yola',\n",
       " 'Uyo',\n",
       " 'Awka',\n",
       " 'Bauchi',\n",
       " 'Yenagoa',\n",
       " 'Makurdi',\n",
       " 'Maiduguri',\n",
       " 'Calabar',\n",
       " 'Asaba',\n",
       " 'Abakaliki',\n",
       " 'Benin City',\n",
       " 'Ado Ekiti',\n",
       " 'Enugu',\n",
       " 'Gombe',\n",
       " 'Owerri',\n",
       " 'Dutse',\n",
       " 'Kaduna',\n",
       " 'Kano',\n",
       " 'Katsina',\n",
       " 'Birnin Kebbi',\n",
       " 'Lokoja',\n",
       " 'Ilorin',\n",
       " 'Ikeja',\n",
       " 'Lafia',\n",
       " 'Minna',\n",
       " 'Abeokuta',\n",
       " 'Akure',\n",
       " 'Oshogbo',\n",
       " 'Ibadan',\n",
       " 'Jos',\n",
       " 'Port Harcourt',\n",
       " 'Sokoto',\n",
       " 'Jalingo',\n",
       " 'Damaturu',\n",
       " 'Gusau']"
      ]
     },
     "execution_count": 72,
     "metadata": {},
     "output_type": "execute_result"
    }
   ],
   "source": [
    "Capital_nig"
   ]
  },
  {
   "cell_type": "code",
   "execution_count": 73,
   "metadata": {},
   "outputs": [],
   "source": [
    "cap_sta = dict(zip(states_nig, Capital_nig))"
   ]
  },
  {
   "cell_type": "code",
   "execution_count": 74,
   "metadata": {},
   "outputs": [
    {
     "data": {
      "text/plain": [
       "{'Abia': 'Umuahia',\n",
       " 'Adamawa': 'Yola',\n",
       " 'Akwa Ibom': 'Uyo',\n",
       " 'Anambra': 'Awka',\n",
       " 'Bauchi': 'Bauchi',\n",
       " 'Bayelsa': 'Yenagoa',\n",
       " 'Benue': 'Makurdi',\n",
       " 'Borno': 'Maiduguri',\n",
       " 'Cross River': 'Calabar',\n",
       " 'Delta': 'Asaba',\n",
       " 'Ebonyi': 'Abakaliki',\n",
       " 'Edo': 'Benin City',\n",
       " 'Ekiti': 'Ado Ekiti',\n",
       " 'Enugu': 'Enugu',\n",
       " 'Gombe': 'Gombe',\n",
       " 'Imo': 'Owerri',\n",
       " 'Jigawa': 'Dutse',\n",
       " 'Kaduna': 'Kaduna',\n",
       " 'Kano': 'Kano',\n",
       " 'Katsina': 'Katsina',\n",
       " 'Kebbi': 'Birnin Kebbi',\n",
       " 'Kogi': 'Lokoja',\n",
       " 'Kwara': 'Ilorin',\n",
       " 'Lagos': 'Ikeja',\n",
       " 'Nasarawa': 'Lafia',\n",
       " 'Niger': 'Minna',\n",
       " 'Ogun': 'Abeokuta',\n",
       " 'Ondo': 'Akure',\n",
       " 'Osun': 'Oshogbo',\n",
       " 'Oyo': 'Ibadan',\n",
       " 'Plateau': 'Jos',\n",
       " 'Rivers': 'Port Harcourt',\n",
       " 'Sokoto': 'Sokoto',\n",
       " 'Taraba': 'Jalingo',\n",
       " 'Yobe': 'Damaturu',\n",
       " 'Zamfara ': 'Gusau'}"
      ]
     },
     "execution_count": 74,
     "metadata": {},
     "output_type": "execute_result"
    }
   ],
   "source": [
    "cap_sta"
   ]
  },
  {
   "cell_type": "code",
   "execution_count": 75,
   "metadata": {},
   "outputs": [],
   "source": [
    "import random\n",
    "state, capital = random.choice(list(cap_sta.items()))"
   ]
  },
  {
   "cell_type": "code",
   "execution_count": null,
   "metadata": {},
   "outputs": [],
   "source": []
  },
  {
   "cell_type": "code",
   "execution_count": 76,
   "metadata": {},
   "outputs": [
    {
     "name": "stdout",
     "output_type": "stream",
     "text": [
      "Whats is the capital of Kogi\n",
      "Whats is the capital of Kano\n",
      "Whats is the capital of Lagos\n",
      "Whats is the capital of Taraba\n",
      "Whats is the capital of Kano\n",
      "Whats is the capital of Lagos\n",
      "Whats is the capital of Benue\n",
      "Whats is the capital of Plateau\n",
      "Whats is the capital of Ondo\n",
      "Whats is the capital of Plateau\n",
      "Whats is the capital of Edo\n",
      "Whats is the capital of Sokoto\n",
      "Whats is the capital of Plateau\n",
      "Whats is the capital of Kebbi\n",
      "Whats is the capital of Akwa Ibom\n",
      "Whats is the capital of Kano\n",
      "Whats is the capital of Yobe\n",
      "Whats is the capital of Bauchi\n",
      "Whats is the capital of Nasarawa\n",
      "Whats is the capital of Yobe\n"
     ]
    }
   ],
   "source": [
    "\n",
    "for questions in range (20):\n",
    "    state, capital = random.choice(list(cap_sta.items()))\n",
    "    print(f'Whats is the capital of {state}')"
   ]
  },
  {
   "cell_type": "code",
   "execution_count": 77,
   "metadata": {},
   "outputs": [],
   "source": [
    "import docx\n"
   ]
  },
  {
   "cell_type": "code",
   "execution_count": 78,
   "metadata": {},
   "outputs": [
    {
     "name": "stdout",
     "output_type": "stream",
     "text": [
      "Question 1\n",
      "Whats is the capital of Imo\n",
      "Question 2\n",
      "Whats is the capital of Lagos\n",
      "Question 3\n",
      "Whats is the capital of Abia\n",
      "Question 4\n",
      "Whats is the capital of Katsina\n",
      "Question 5\n",
      "Whats is the capital of Nasarawa\n",
      "Question 6\n",
      "Whats is the capital of Taraba\n",
      "Question 7\n",
      "Whats is the capital of Anambra\n",
      "Question 8\n",
      "Whats is the capital of Niger\n",
      "Question 9\n",
      "Whats is the capital of Delta\n",
      "Question 10\n",
      "Whats is the capital of Cross River\n",
      "Question 11\n",
      "Whats is the capital of Katsina\n",
      "Question 12\n",
      "Whats is the capital of Ekiti\n",
      "Question 13\n",
      "Whats is the capital of Plateau\n",
      "Question 14\n",
      "Whats is the capital of Enugu\n",
      "Question 15\n",
      "Whats is the capital of Cross River\n",
      "Question 16\n",
      "Whats is the capital of Gombe\n",
      "Question 17\n",
      "Whats is the capital of Adamawa\n",
      "Question 18\n",
      "Whats is the capital of Gombe\n",
      "Question 19\n",
      "Whats is the capital of Delta\n"
     ]
    }
   ],
   "source": [
    "\n",
    "for y in range (1,20):\n",
    "    print(f'Question {y}')\n",
    "    state, capital = random.choice(list(cap_sta.items()))\n",
    "    print(f'Whats is the capital of {state}')"
   ]
  },
  {
   "cell_type": "code",
   "execution_count": 79,
   "metadata": {},
   "outputs": [
    {
     "name": "stdout",
     "output_type": "stream",
     "text": [
      "Question 1\n",
      "Whats is the capital of Yobe\n",
      "A Owerri\n",
      "B Yenagoa\n",
      "C Damaturu\n",
      "D Minna\n",
      "Question 2\n",
      "Whats is the capital of Kebbi\n",
      "A Uyo\n",
      "B Birnin Kebbi\n",
      "C Akure\n",
      "D Gusau\n",
      "Question 3\n",
      "Whats is the capital of Abia\n",
      "A Gusau\n",
      "B Umuahia\n",
      "C Awka\n",
      "D Port Harcourt\n",
      "Question 4\n",
      "Whats is the capital of Akwa Ibom\n",
      "A Abakaliki\n",
      "B Ado Ekiti\n",
      "C Uyo\n",
      "D Lokoja\n",
      "Question 5\n",
      "Whats is the capital of Rivers\n",
      "A Minna\n",
      "B Port Harcourt\n",
      "C Minna\n",
      "D Abakaliki\n",
      "Question 6\n",
      "Whats is the capital of Edo\n",
      "A Calabar\n",
      "B Ibadan\n",
      "C Benin City\n",
      "D Awka\n",
      "Question 7\n",
      "Whats is the capital of Edo\n",
      "A Birnin Kebbi\n",
      "B Umuahia\n",
      "C Benin City\n",
      "D Calabar\n",
      "Question 8\n",
      "Whats is the capital of Kwara\n",
      "A Katsina\n",
      "B Ilorin\n",
      "C Gombe\n",
      "D Port Harcourt\n",
      "Question 9\n",
      "Whats is the capital of Gombe\n",
      "A Minna\n",
      "B Gombe\n",
      "C Ilorin\n",
      "D Makurdi\n",
      "Question 10\n",
      "Whats is the capital of Kaduna\n",
      "A Oshogbo\n",
      "B Kaduna\n",
      "C Yenagoa\n",
      "D Katsina\n",
      "Question 11\n",
      "Whats is the capital of Borno\n",
      "A Enugu\n",
      "B Maiduguri\n",
      "C Abeokuta\n",
      "D Kano\n",
      "Question 12\n",
      "Whats is the capital of Delta\n",
      "A Akure\n",
      "B Abakaliki\n",
      "C Asaba\n",
      "D Jalingo\n",
      "Question 13\n",
      "Whats is the capital of Ekiti\n",
      "A Port Harcourt\n",
      "B Kaduna\n",
      "C Ado Ekiti\n",
      "D Jos\n",
      "Question 14\n",
      "Whats is the capital of Imo\n",
      "A Jalingo\n",
      "B Owerri\n",
      "C Owerri\n",
      "D Maiduguri\n",
      "Question 15\n",
      "Whats is the capital of Sokoto\n",
      "A Yola\n",
      "B Lafia\n",
      "C Sokoto\n",
      "D Bauchi\n",
      "Question 16\n",
      "Whats is the capital of Ekiti\n",
      "A Makurdi\n",
      "B Ado Ekiti\n",
      "C Damaturu\n",
      "D Asaba\n",
      "Question 17\n",
      "Whats is the capital of Akwa Ibom\n",
      "A Uyo\n",
      "B Yola\n",
      "C Damaturu\n",
      "D Calabar\n",
      "Question 18\n",
      "Whats is the capital of Gombe\n",
      "A Gombe\n",
      "B Jos\n",
      "C Owerri\n",
      "D Kano\n",
      "Question 19\n",
      "Whats is the capital of Borno\n",
      "A Damaturu\n",
      "B Uyo\n",
      "C Maiduguri\n",
      "D Yola\n"
     ]
    }
   ],
   "source": [
    "\n",
    "for y in range (1,20):\n",
    "    print(f'Question {y}')\n",
    "    state, capital = random.choice(list(cap_sta.items()))\n",
    "    print(f'Whats is the capital of {state}')\n",
    "    ans= capital\n",
    "    options = [capital]\n",
    "    alphabet = ['A', 'B', 'C', 'D']\n",
    "    for cap in range(3):\n",
    "        options.append(random.choice(list(cap_sta.values())))\n",
    "        random.shuffle(options)\n",
    "    dic_option = dict(zip(alphabet, options))\n",
    "    for  key, value in dic_option.items():\n",
    "        print(f'{key} {value}' )\n",
    "       "
   ]
  },
  {
   "cell_type": "code",
   "execution_count": 80,
   "metadata": {},
   "outputs": [
    {
     "name": "stdout",
     "output_type": "stream",
     "text": [
      "Question 1\n",
      "Whats is the capital of Bauchi\n",
      "A Awka\n",
      "B Bauchi\n",
      "C Benin City\n",
      "D Benin City\n",
      "Question 2\n",
      "Whats is the capital of Delta\n",
      "A Dutse\n",
      "B Awka\n",
      "C Asaba\n",
      "D Gusau\n",
      "Question 3\n",
      "Whats is the capital of Plateau\n",
      "A Ado Ekiti\n",
      "B Lafia\n",
      "C Dutse\n",
      "D Jos\n",
      "Question 4\n",
      "Whats is the capital of Enugu\n",
      "A Damaturu\n",
      "B Enugu\n",
      "C Dutse\n",
      "D Umuahia\n",
      "Question 5\n",
      "Whats is the capital of Kwara\n",
      "A Ilorin\n",
      "B Gombe\n",
      "C Gusau\n",
      "D Kano\n",
      "Question 6\n",
      "Whats is the capital of Kebbi\n",
      "A Uyo\n",
      "B Gombe\n",
      "C Birnin Kebbi\n",
      "D Benin City\n",
      "Question 7\n",
      "Whats is the capital of Edo\n",
      "A Birnin Kebbi\n",
      "B Benin City\n",
      "C Maiduguri\n",
      "D Benin City\n",
      "Question 8\n",
      "Whats is the capital of Taraba\n",
      "A Oshogbo\n",
      "B Enugu\n",
      "C Jalingo\n",
      "D Damaturu\n",
      "Question 9\n",
      "Whats is the capital of Akwa Ibom\n",
      "A Oshogbo\n",
      "B Jalingo\n",
      "C Uyo\n",
      "D Dutse\n",
      "Question 10\n",
      "Whats is the capital of Jigawa\n",
      "A Ikeja\n",
      "B Ado Ekiti\n",
      "C Ibadan\n",
      "D Dutse\n",
      "Question 11\n",
      "Whats is the capital of Taraba\n",
      "A Lokoja\n",
      "B Jalingo\n",
      "C Birnin Kebbi\n",
      "D Enugu\n",
      "Question 12\n",
      "Whats is the capital of Rivers\n",
      "A Dutse\n",
      "B Akure\n",
      "C Asaba\n",
      "D Port Harcourt\n",
      "Question 13\n",
      "Whats is the capital of Bauchi\n",
      "A Bauchi\n",
      "B Sokoto\n",
      "C Benin City\n",
      "D Asaba\n",
      "Question 14\n",
      "Whats is the capital of Benue\n",
      "A Awka\n",
      "B Jalingo\n",
      "C Katsina\n",
      "D Makurdi\n",
      "Question 15\n",
      "Whats is the capital of Kwara\n",
      "A Awka\n",
      "B Ilorin\n",
      "C Makurdi\n",
      "D Akure\n",
      "Question 16\n",
      "Whats is the capital of Ogun\n",
      "A Ibadan\n",
      "B Owerri\n",
      "C Ikeja\n",
      "D Abeokuta\n",
      "Question 17\n",
      "Whats is the capital of Borno\n",
      "A Lokoja\n",
      "B Benin City\n",
      "C Sokoto\n",
      "D Maiduguri\n",
      "Question 18\n",
      "Whats is the capital of Oyo\n",
      "A Ibadan\n",
      "B Umuahia\n",
      "C Abeokuta\n",
      "D Dutse\n",
      "Question 19\n",
      "Whats is the capital of Niger\n",
      "A Minna\n",
      "B Dutse\n",
      "C Minna\n",
      "D Bauchi\n"
     ]
    }
   ],
   "source": [
    "\n",
    "for y in range (1,20):\n",
    "    print((f'Question {y}'))\n",
    "    state, capital = random.choice(list(cap_sta.items()))\n",
    "    print(f'Whats is the capital of {state}')\n",
    "    ans= capital\n",
    "    options = [capital]\n",
    "    alphabet = ['A', 'B', 'C', 'D']\n",
    "    for cap in range(3):\n",
    "        options.append(random.choice(list(cap_sta.values())))\n",
    "        random.shuffle(options)\n",
    "    dic_option = dict(zip(alphabet, options))\n",
    "    for  key, value in dic_option.items():\n",
    "        print(f'{key} {value}' )\n",
    "       \n"
   ]
  },
  {
   "cell_type": "code",
   "execution_count": 81,
   "metadata": {},
   "outputs": [
    {
     "name": "stdout",
     "output_type": "stream",
     "text": [
      "                 NAME                    EMAIL PRESENTER\n",
      "0         James Ekene    jamesekene8@gmail.com       Yes\n",
      "1  Olubayode Ebenezer  olubayodeeben@yahoo.com       NaN\n",
      "2        Nnorom Amaka     helloamaka@gmail.com       Yes\n",
      "3      Adewumi Mayowa    mayowabammy@gmail.com       NaN\n",
      "4     Aminat Akinyemi    aaebunoluwa@gmail.com       NaN\n"
     ]
    }
   ],
   "source": [
    "import pandas as pd\n",
    "students = pd.read_csv('Students_contact.csv')\n",
    "print(students.head())\n",
    "for name in students.itertuples():\n",
    "    #print(name)\n",
    "    student_name = name[1]\n",
    "    #print(student_name)\n",
    "    student_email = name[2]\n",
    "    doc1 = docx.Document()\n",
    "    doc = docx.Document()\n",
    "    doc.add_heading('RANDOM QUIZ QUESTIONS', 0)\n",
    "    doc1.add_heading('ANSWERS TO QUIZ QUESTION', 0)\n",
    "    doc.add_heading(f'This question is for {student_name}',1)\n",
    "    state = random.sample(list(cap_sta.keys()), 21)\n",
    "    for y in range (1,21):\n",
    "        doc.add_paragraph(f'Question {y}:')\n",
    "        doc.add_paragraph(f'Whats is the capital of {state[y]}')\n",
    "        ans= cap_sta[state[y]]\n",
    "        options = [ans]\n",
    "        alphabet = ['A', 'B', 'C', 'D']\n",
    "        cap_list = list(cap_sta.values())\n",
    "        index = cap_list.index(ans)\n",
    "        del cap_list[index]\n",
    "        cap_option = random.sample(cap_list, 3)\n",
    "        cap_option = cap_option + options\n",
    "        #cap_option.append(\"\".join(options))\n",
    "        #for cap in range(4):\n",
    "            #options.append(random.choice(list(cap_sta.values())))\n",
    "            #if len(options) != len(set(options)):\n",
    "             #   options =  set(options)\n",
    "              #  options =  list(options)\n",
    "               # options.append(random.choice(list(cap_sta.values())))\n",
    "        #options.pop()\n",
    "        random.shuffle(cap_option)\n",
    "        dic_option = dict(zip(alphabet, cap_option))\n",
    "        options_ques = alphabet[cap_option.index(ans)]\n",
    "        doc1.add_paragraph(f'The correct answer for {y} is: {options_ques}')\n",
    "        for  key, value in dic_option.items():\n",
    "            doc.add_paragraph(f'{key}) {value}')  \n",
    "    doc.save(f'{student_name}_Quiz.docx')\n",
    "    doc1.save(f'{student_name}_marking_scheme.docx')"
   ]
  },
  {
   "cell_type": "code",
   "execution_count": 82,
   "metadata": {},
   "outputs": [
    {
     "data": {
      "text/plain": [
       "['Katsina', 'Umuahia', 'Enugu', 'Minna']"
      ]
     },
     "execution_count": 82,
     "metadata": {},
     "output_type": "execute_result"
    }
   ],
   "source": [
    "cap_option"
   ]
  },
  {
   "cell_type": "code",
   "execution_count": null,
   "metadata": {},
   "outputs": [],
   "source": []
  },
  {
   "cell_type": "code",
   "execution_count": null,
   "metadata": {},
   "outputs": [],
   "source": []
  },
  {
   "cell_type": "code",
   "execution_count": 90,
   "metadata": {},
   "outputs": [],
   "source": [
    "import smtplib\n",
    "smtp = smtplib.SMTP_SSL('smtp.gmail.com', 465)"
   ]
  },
  {
   "cell_type": "code",
   "execution_count": 91,
   "metadata": {},
   "outputs": [],
   "source": [
    "from email.message import EmailMessage\n",
    "msg = EmailMessage()\n",
    "import os\n",
    "username = os.environ.get('My_Email_Address')\n",
    "user_password = os.environ.get('My_Email_password')\n",
    "with smtplib.SMTP_SSL('smtp.gmail.com', 465) as smtp:\n",
    "    smtp.login(username, user_password)"
   ]
  },
  {
   "cell_type": "code",
   "execution_count": 98,
   "metadata": {},
   "outputs": [],
   "source": [
    "for name in students.itertuples():\n",
    "    #print(name)\n",
    "    student_name = name[1]\n",
    "    student_email = name[2]\n",
    "    student_pre = name[3]\n",
    "    #print (student_name, student_email )\n",
    "   \n",
    "        # print(name)\n",
    "       # print(name[2])\n",
    "    msg = EmailMessage()\n",
    "    msg['From'] = username\n",
    "    msg['Reply-to'] = username             \n",
    "    msg['To'] = name[2]\n",
    "    msg['Subject'] = 'Quiz'\n",
    "    msg.set_content(f'''\n",
    "    <Doctype html>\n",
    "    <html>\n",
    "        <p>Hi {student_name},</p>\n",
    "        <p>I hope this mail meets you well. This is notify you  that your quiz questions have been sent in the attached document below, you must provide your answers on or before:</p>\n",
    "        <p>Date: Tuesday, 1th of September, 2020.</p>\n",
    "        <p>Academic Director, RAIN.</p>\n",
    "            \n",
    "    </html>\n",
    "    ''', subtype='html')\n",
    "    with open(f'{student_name}_Quiz.docx', 'rb') as f:\n",
    "        content = f.read()\n",
    "        name = f.name\n",
    "    msg.add_attachment(content, maintype = 'application', subtype = 'msword', filename = name)\n",
    "    with open(f'{student_name}_marking_scheme.docx', 'rb') as f:\n",
    "        content = f.read()\n",
    "        name = f.name\n",
    "    msg.add_attachment(content, maintype = 'application', subtype = 'msword', filename = name)\n",
    "    with smtplib.SMTP_SSL('smtp.gmail.com', 465) as smtp:\n",
    "        smtp.login(username, user_password)\n",
    "        smtp.send_message(msg) "
   ]
  },
  {
   "cell_type": "code",
   "execution_count": null,
   "metadata": {},
   "outputs": [],
   "source": []
  },
  {
   "cell_type": "code",
   "execution_count": 55,
   "metadata": {},
   "outputs": [
    {
     "name": "stdout",
     "output_type": "stream",
     "text": [
      "olubayodeeben@gmail.com\n"
     ]
    }
   ],
   "source": []
  },
  {
   "cell_type": "code",
   "execution_count": 1,
   "metadata": {},
   "outputs": [
    {
     "ename": "NameError",
     "evalue": "name 'user_password' is not defined",
     "output_type": "error",
     "traceback": [
      "\u001b[1;31m---------------------------------------------------------------------------\u001b[0m",
      "\u001b[1;31mNameError\u001b[0m                                 Traceback (most recent call last)",
      "\u001b[1;32m<ipython-input-1-e5262121ef91>\u001b[0m in \u001b[0;36m<module>\u001b[1;34m\u001b[0m\n\u001b[1;32m----> 1\u001b[1;33m \u001b[0mprint\u001b[0m\u001b[1;33m(\u001b[0m\u001b[0muser_password\u001b[0m\u001b[1;33m)\u001b[0m\u001b[1;33m\u001b[0m\u001b[1;33m\u001b[0m\u001b[0m\n\u001b[0m",
      "\u001b[1;31mNameError\u001b[0m: name 'user_password' is not defined"
     ]
    }
   ],
   "source": [
    "print(user_password)"
   ]
  },
  {
   "cell_type": "code",
   "execution_count": null,
   "metadata": {},
   "outputs": [],
   "source": []
  },
  {
   "cell_type": "code",
   "execution_count": null,
   "metadata": {},
   "outputs": [],
   "source": []
  },
  {
   "cell_type": "code",
   "execution_count": null,
   "metadata": {},
   "outputs": [],
   "source": []
  },
  {
   "cell_type": "code",
   "execution_count": null,
   "metadata": {},
   "outputs": [],
   "source": []
  },
  {
   "cell_type": "code",
   "execution_count": null,
   "metadata": {},
   "outputs": [],
   "source": []
  },
  {
   "cell_type": "code",
   "execution_count": null,
   "metadata": {},
   "outputs": [],
   "source": []
  },
  {
   "cell_type": "code",
   "execution_count": null,
   "metadata": {},
   "outputs": [],
   "source": []
  },
  {
   "cell_type": "code",
   "execution_count": null,
   "metadata": {},
   "outputs": [],
   "source": []
  },
  {
   "cell_type": "code",
   "execution_count": null,
   "metadata": {},
   "outputs": [],
   "source": []
  },
  {
   "cell_type": "code",
   "execution_count": null,
   "metadata": {},
   "outputs": [],
   "source": []
  },
  {
   "cell_type": "code",
   "execution_count": null,
   "metadata": {},
   "outputs": [],
   "source": []
  }
 ],
 "metadata": {
  "kernelspec": {
   "display_name": "Python 3",
   "language": "python",
   "name": "python3"
  },
  "language_info": {
   "codemirror_mode": {
    "name": "ipython",
    "version": 3
   },
   "file_extension": ".py",
   "mimetype": "text/x-python",
   "name": "python",
   "nbconvert_exporter": "python",
   "pygments_lexer": "ipython3",
   "version": "3.8.3"
  }
 },
 "nbformat": 4,
 "nbformat_minor": 4
}
